{
  "cells": [
    {
      "cell_type": "markdown",
      "metadata": {
        "id": "view-in-github",
        "colab_type": "text"
      },
      "source": [
        "<a href=\"https://colab.research.google.com/github/Adronz/Fungal-Proteomics/blob/main/Copy_of_Fungi_Clustering.ipynb\" target=\"_parent\"><img src=\"https://colab.research.google.com/assets/colab-badge.svg\" alt=\"Open In Colab\"/></a>"
      ]
    },
    {
      "cell_type": "code",
      "execution_count": null,
      "id": "5c225a20",
      "metadata": {
        "id": "5c225a20",
        "outputId": "61a89a72-f045-4584-b1c1-911a18bbc536",
        "colab": {
          "base_uri": "https://localhost:8080/"
        }
      },
      "outputs": [
        {
          "output_type": "stream",
          "name": "stdout",
          "text": [
            "Collecting umap-learn\n",
            "  Downloading umap_learn-0.5.6-py3-none-any.whl (85 kB)\n",
            "\u001b[2K     \u001b[90m━━━━━━━━━━━━━━━━━━━━━━━━━━━━━━━━━━━━━━━━\u001b[0m \u001b[32m85.7/85.7 kB\u001b[0m \u001b[31m2.4 MB/s\u001b[0m eta \u001b[36m0:00:00\u001b[0m\n",
            "\u001b[?25hRequirement already satisfied: numpy>=1.17 in /usr/local/lib/python3.10/dist-packages (from umap-learn) (1.25.2)\n",
            "Requirement already satisfied: scipy>=1.3.1 in /usr/local/lib/python3.10/dist-packages (from umap-learn) (1.11.4)\n",
            "Requirement already satisfied: scikit-learn>=0.22 in /usr/local/lib/python3.10/dist-packages (from umap-learn) (1.2.2)\n",
            "Requirement already satisfied: numba>=0.51.2 in /usr/local/lib/python3.10/dist-packages (from umap-learn) (0.58.1)\n",
            "Collecting pynndescent>=0.5 (from umap-learn)\n",
            "  Downloading pynndescent-0.5.12-py3-none-any.whl (56 kB)\n",
            "\u001b[2K     \u001b[90m━━━━━━━━━━━━━━━━━━━━━━━━━━━━━━━━━━━━━━━━\u001b[0m \u001b[32m56.8/56.8 kB\u001b[0m \u001b[31m6.3 MB/s\u001b[0m eta \u001b[36m0:00:00\u001b[0m\n",
            "\u001b[?25hRequirement already satisfied: tqdm in /usr/local/lib/python3.10/dist-packages (from umap-learn) (4.66.2)\n",
            "Requirement already satisfied: llvmlite<0.42,>=0.41.0dev0 in /usr/local/lib/python3.10/dist-packages (from numba>=0.51.2->umap-learn) (0.41.1)\n",
            "Requirement already satisfied: joblib>=0.11 in /usr/local/lib/python3.10/dist-packages (from pynndescent>=0.5->umap-learn) (1.3.2)\n",
            "Requirement already satisfied: threadpoolctl>=2.0.0 in /usr/local/lib/python3.10/dist-packages (from scikit-learn>=0.22->umap-learn) (3.4.0)\n",
            "Installing collected packages: pynndescent, umap-learn\n",
            "Successfully installed pynndescent-0.5.12 umap-learn-0.5.6\n"
          ]
        }
      ],
      "source": [
        "import os\n",
        "import sys\n",
        "import gzip\n",
        "import numpy as np\n",
        "import pandas as pd\n",
        "import urllib.request\n",
        "!pip install umap-learn\n",
        "import umap.umap_ as umap\n",
        "import matplotlib.pyplot as plt\n",
        "import seaborn as sns\n",
        "from sklearn.preprocessing import LabelEncoder\n",
        "from matplotlib.colors import ListedColormap\n",
        "from matplotlib.lines import Line2D"
      ]
    },
    {
      "cell_type": "code",
      "execution_count": null,
      "id": "e0308171",
      "metadata": {
        "id": "e0308171",
        "outputId": "16e7065c-afdf-45cf-a05c-d5500e6ce56d",
        "colab": {
          "base_uri": "https://localhost:8080/",
          "height": 216
        }
      },
      "outputs": [
        {
          "output_type": "error",
          "ename": "FileNotFoundError",
          "evalue": "[Errno 2] No such file or directory: 'ipromerge_fungi.txt'",
          "traceback": [
            "\u001b[0;31m---------------------------------------------------------------------------\u001b[0m",
            "\u001b[0;31mFileNotFoundError\u001b[0m                         Traceback (most recent call last)",
            "\u001b[0;32m<ipython-input-2-9c27f573a321>\u001b[0m in \u001b[0;36m<cell line: 27>\u001b[0;34m()\u001b[0m\n\u001b[1;32m     25\u001b[0m \u001b[0mipidx\u001b[0m \u001b[0;34m=\u001b[0m \u001b[0;34m{\u001b[0m\u001b[0;34m}\u001b[0m\u001b[0;34m\u001b[0m\u001b[0;34m\u001b[0m\u001b[0m\n\u001b[1;32m     26\u001b[0m \u001b[0;34m\u001b[0m\u001b[0m\n\u001b[0;32m---> 27\u001b[0;31m \u001b[0;32mwith\u001b[0m \u001b[0mopen\u001b[0m\u001b[0;34m(\u001b[0m\u001b[0mtxidxIn\u001b[0m\u001b[0;34m,\u001b[0m\u001b[0;34m\"r\"\u001b[0m\u001b[0;34m)\u001b[0m \u001b[0;32mas\u001b[0m \u001b[0mfh\u001b[0m\u001b[0;34m:\u001b[0m\u001b[0;34m\u001b[0m\u001b[0;34m\u001b[0m\u001b[0m\n\u001b[0m\u001b[1;32m     28\u001b[0m     \u001b[0;32mfor\u001b[0m \u001b[0mln\u001b[0m \u001b[0;32min\u001b[0m \u001b[0mfh\u001b[0m\u001b[0;34m:\u001b[0m\u001b[0;34m\u001b[0m\u001b[0;34m\u001b[0m\u001b[0m\n\u001b[1;32m     29\u001b[0m         \u001b[0;32mif\u001b[0m \u001b[0mln\u001b[0m\u001b[0;34m.\u001b[0m\u001b[0mstartswith\u001b[0m\u001b[0;34m(\u001b[0m\u001b[0;34m\"tx:\"\u001b[0m\u001b[0;34m)\u001b[0m\u001b[0;34m:\u001b[0m\u001b[0;34m\u001b[0m\u001b[0;34m\u001b[0m\u001b[0m\n",
            "\u001b[0;31mFileNotFoundError\u001b[0m: [Errno 2] No such file or directory: 'ipromerge_fungi.txt'"
          ]
        }
      ],
      "source": [
        "#!/usr/bin/python3\n",
        "\n",
        "import os\n",
        "import sys\n",
        "import gzip\n",
        "import numpy as np\n",
        "import pandas as pd\n",
        "\n",
        "txipIn= \"txip_fungi.npy\"\n",
        "txidxIn= \"ipromerge_fungi.txt\";\n",
        "ipidxIn= \"ipromerge_fungi.txt\";\n",
        "\n",
        "# interpro domain info\n",
        "# https://ftp.ebi.ac.uk/pub/databases/interpro/current_release/entry.list\n",
        "\n",
        "# tax id info ( ... with gzip.open(file_name, \"rt\") as ... )\n",
        "#   proteomes_AND_proteome_type_1_AND_super_2023_09_20.tsv.gz\n",
        "#   proteomes_AND_superkingdom_Bacteria_AND_2023_09_20.tsv.gz\n",
        "#   proteomes_AND_Eucaryota_AND_super_2023_11_01.tsv.gz\n",
        "\n",
        "txid = []\n",
        "txidx = {}\n",
        "\n",
        "ipid =[]\n",
        "ipidx = {}\n",
        "\n",
        "with open(txidxIn,\"r\") as fh:\n",
        "    for ln in fh:\n",
        "        if ln.startswith(\"tx:\"):\n",
        "            col = ln.strip().split()\n",
        "            txid.append( col[1].strip() )\n",
        "            txidx[ col[1].strip() ] = len(txid)-1\n",
        "\n",
        "with open(ipidxIn,\"r\") as fh:\n",
        "    for ln in fh:\n",
        "        if ln.startswith(\"ipd:\"):\n",
        "            col = ln.strip().split()\n",
        "            ipid.append(col[1].strip())\n",
        "            ipidx[ col[1].strip() ] = len(ipid)-1\n",
        "\n",
        "print( \"tax:\", len(txid), txid[:10] )\n",
        "print( \"dom:\", len(ipid), ipid[:10] )\n",
        "\n",
        "# numpy array\n",
        "#------------\n",
        "\n",
        "txip = np.load( txipIn )\n",
        "\n",
        "print( txip.shape )\n",
        "print( txip )\n",
        "print( txip[:10,:10] )\n",
        "\n",
        "\n",
        "# pandas dataframe\n",
        "#-----------------\n",
        "\n",
        "tipd = pd.DataFrame( txip, index= txidx, columns=ipidx )\n",
        "print(tipd.shape)\n",
        "print(tipd)"
      ]
    },
    {
      "cell_type": "code",
      "execution_count": null,
      "id": "d187c6ed",
      "metadata": {
        "id": "d187c6ed",
        "scrolled": true
      },
      "outputs": [],
      "source": [
        "# TODO: not sure if this entry_list is right\n",
        "entry_list = pd.read_csv(r'entry_list.txt', sep = '\\t')\n",
        "entry_list.head()"
      ]
    },
    {
      "cell_type": "code",
      "execution_count": null,
      "id": "0277e3ca",
      "metadata": {
        "id": "0277e3ca"
      },
      "outputs": [],
      "source": [
        "with gzip.open(\"proteomes_AND_Eucaryota_AND_super_2023_11_01.tsv.gz\", 'r') as f:\n",
        "    string_data = f.read().decode()\n",
        "    list_data = [row.split(\"\\t\") for row in string_data.split(\"\\n\")]\n",
        "    df_entries_eukaryota = pd.DataFrame(list_data[1:], columns=list_data[0])\n",
        "#create df for all eukaryotes\n",
        "#organism_organismid_df_archea = df_entries_archea.iloc[:, 1:3]\n",
        "organism_organismid_df_eukaryota = pd.concat([df_entries_eukaryota['Organism Id'], df_entries_eukaryota['Organism']], axis=1)\n",
        "df_entries_eukaryota.head()"
      ]
    },
    {
      "cell_type": "code",
      "execution_count": null,
      "id": "a1360b2c",
      "metadata": {
        "id": "a1360b2c"
      },
      "outputs": [],
      "source": [
        "df_entries_eukaryota.shape"
      ]
    },
    {
      "cell_type": "code",
      "execution_count": null,
      "id": "2c82f49a",
      "metadata": {
        "id": "2c82f49a"
      },
      "outputs": [],
      "source": [
        "#get ids for all eukaryota in original table from tipd\n",
        "row_names = list(tipd.index.values.tolist())\n",
        "\n",
        "eukaryota_ids = df_entries_eukaryota['Organism Id']\n",
        "eukaryota_ids = eukaryota_ids.to_list()\n",
        "subset_ids_eukaryota = []\n",
        "eukaryota = []\n",
        "for i in range(len(row_names)):\n",
        "    if row_names[i] in eukaryota_ids:\n",
        "        subset_ids_eukaryota.append(i)\n",
        "        eukaryota.append(\"Eukaryota\")\n",
        "    else: eukaryota.append(\"N/A\")\n",
        "\n",
        "\n",
        "print(eukaryota_ids)\n"
      ]
    },
    {
      "cell_type": "code",
      "execution_count": null,
      "id": "94532c3a",
      "metadata": {
        "id": "94532c3a",
        "scrolled": true
      },
      "outputs": [],
      "source": [
        "print(None in eukaryota_ids)"
      ]
    },
    {
      "cell_type": "code",
      "execution_count": null,
      "id": "39a9774b",
      "metadata": {
        "id": "39a9774b"
      },
      "outputs": [],
      "source": [
        "len(eukaryota_ids)"
      ]
    },
    {
      "cell_type": "code",
      "execution_count": null,
      "id": "eef2e628",
      "metadata": {
        "id": "eef2e628"
      },
      "outputs": [],
      "source": [
        "'''\n",
        "with gzip.open(\"proteomes_AND_Eucaryota_AND_super_2023_11_01.tsv.gz\", 'r') as f:\n",
        "    string_data = f.read().decode()\n",
        "    list_data = [row.split(\"\\t\") for row in string_data.split(\"\\n\")]\n",
        "    df_entries_eukaryota = pd.DataFrame(list_data[1:], columns=list_data[0])\n",
        "df_entries_eukaryota.head()\n",
        "'''"
      ]
    },
    {
      "cell_type": "code",
      "execution_count": null,
      "id": "3d5e1fd1",
      "metadata": {
        "id": "3d5e1fd1",
        "scrolled": true
      },
      "outputs": [],
      "source": [
        "#global organism_organismid\n",
        "organism_organismid = pd.DataFrame(organism_organismid_df_eukaryota)\n",
        "organism_organismid.head()"
      ]
    },
    {
      "cell_type": "code",
      "execution_count": null,
      "id": "488f0f61",
      "metadata": {
        "id": "488f0f61"
      },
      "outputs": [],
      "source": [
        "organism_organismid.shape"
      ]
    },
    {
      "cell_type": "code",
      "execution_count": null,
      "id": "f0d50dd3",
      "metadata": {
        "id": "f0d50dd3"
      },
      "outputs": [],
      "source": [
        "'''\n",
        "#get ids for all eukaryota\n",
        "row_names = list(tipd.index.values.tolist())\n",
        "print(row_names)\n",
        "\n",
        "eukaryota_ids = df_entries_eukaryota['Organism Id']\n",
        "eukrayota_ids = eukrayota_ids.to_list()\n",
        "# print(bacteria_ids)\n",
        "# print(len(row_names))\n",
        "subset_ids_eukrayota = []\n",
        "eukaryota = []\n",
        "for i in range(len(row_names)):\n",
        "    if row_names[i] in eukrayota_ids:\n",
        "        subset_ids_eukaryota.append(i)\n",
        "        eukrayota[i] = \"Eukaryota\"\n",
        "\n",
        "# print(subset_ids_bacteria)\n",
        "# print(bacteria_archea)\n",
        "# print(len(bacteria_ids))\n",
        "\n",
        "# alr did except would add \"N/A\" if not found\n",
        "'''"
      ]
    },
    {
      "cell_type": "code",
      "execution_count": null,
      "id": "8ee2e55d",
      "metadata": {
        "id": "8ee2e55d"
      },
      "outputs": [],
      "source": [
        "'''\n",
        "tipd['Eukaryota'] = eukaryota\n",
        "tipd.head()\n",
        "'''"
      ]
    },
    {
      "cell_type": "code",
      "execution_count": null,
      "id": "ea27b0a5",
      "metadata": {
        "id": "ea27b0a5"
      },
      "outputs": [],
      "source": [
        "eukaryota_ids = [str(i) for i in df_entries_eukaryota['Organism Id'].to_list()]\n",
        "eukaryota_ids"
      ]
    },
    {
      "cell_type": "code",
      "execution_count": null,
      "id": "2fe06ae2",
      "metadata": {
        "id": "2fe06ae2"
      },
      "outputs": [],
      "source": [
        "def extract_taxonomic_ranks(df, levels=5):\n",
        "    # Split the 'Taxonomic lineage' by ', ' and expand to the desired number of columns\n",
        "    tax_ranks = df['Taxonomic lineage'].str.split(', ', expand=True)\n",
        "\n",
        "    # Ensure there are enough columns, filling with NA if necessary\n",
        "    for _ in range(tax_ranks.shape[1], levels):\n",
        "        tax_ranks[_] = np.nan  # Add a new column filled with NaNs\n",
        "\n",
        "    # Take only the first `levels` columns\n",
        "    tax_ranks = tax_ranks.iloc[:, :levels]\n",
        "\n",
        "    # Name the columns appropriately\n",
        "    tax_ranks.columns = ['Domain', 'Phylum', 'Class', 'Order', 'Family']\n",
        "\n",
        "    # Replace empty strings with NaN\n",
        "    tax_ranks.replace('', np.nan, inplace=True)\n",
        "\n",
        "    # Set the \"Organism Id\" as the index\n",
        "    tax_ranks.index = df['Organism Id']\n",
        "\n",
        "    return tax_ranks\n",
        "\n",
        "archaea_tax_ranks = extract_taxonomic_ranks(df_entries_eukaryota)\n",
        "bacteria_tax_ranks = extract_taxonomic_ranks(df_entries_eukaryota)\n",
        "\n",
        "df_combined = pd.concat([archaea_tax_ranks, bacteria_tax_ranks], ignore_index=False)\n",
        "df_combined = df_combined[~df_combined.index.isna()]\n",
        "df_combined = df_combined[df_combined.index.isin(tipd.index)]\n",
        "df_combined"
      ]
    },
    {
      "cell_type": "code",
      "source": [
        "def eukaryota_tax_lineage(level, df_entries_eukaryota):\n",
        "  eukaryota_taxonomic_info = df_entries_eukaryota['Taxonomic lineage'].str.split(', ')\n",
        "  eukaryota_phylum = eukaryota_taxonomic_info.str[level]\n",
        "  df_entries_eukaryota['Taxonomic lineage'] = eukaryota_phylum\n",
        "\n",
        "  # Extract Phylum and form a list\n",
        "  eukaryota_tax_lineage = df_entries_eukaryota['Taxonomic lineage'].to_list()\n",
        "\n",
        "  # Create a dictionary with Oragnism Id as keys and Phylum as values\n",
        "  eukaryota_tax_lineage = pd.Series(eukaryota_tax_lineage, index = eukaryota_ids).to_dict()\n",
        "  print(eukaryota_tax_lineage)\n",
        "  return eukaryota_tax_lineage, df_entries_eukaryota\n",
        "\n",
        "#archaea_tax_lineage, df_entries_archea = archaea_tax_lineage(1, df_entries"
      ],
      "metadata": {
        "id": "K2Xlxv1MOb49"
      },
      "id": "K2Xlxv1MOb49",
      "execution_count": null,
      "outputs": []
    },
    {
      "cell_type": "code",
      "execution_count": null,
      "id": "eccb01c0",
      "metadata": {
        "id": "eccb01c0"
      },
      "outputs": [],
      "source": [
        "'''\n",
        "bacteria_ids = [str(i) for i in df_entries_bacteria['Organism Id'].to_list()]\n",
        "def bacteria_tax_lineage(level, df_entries_bacteria):\n",
        "  bacteria_taxonomic_info = df_entries_bacteria['Taxonomic lineage'].str.split(', ')\n",
        "  bacteria_phylum = bacteria_taxonomic_info.str[1]\n",
        "  df_entries_bacteria['Taxonomic lineage'] = bacteria_phylum\n",
        "  bacteria_tax_lineage = df_entries_bacteria['Taxonomic lineage'].to_list()\n",
        "  bacteria_tax_lineage = pd.Series(bacteria_tax_lineage, index = bacteria_ids).to_dict()\n",
        "  print(bacteria_tax_lineage)\n",
        "  return bacteria_tax_lineage, df_entries_bacteria\n",
        "\n",
        "bacteria_tax_lineage, df_entries_bacteria = bacteria_tax_lineage(1, df_entries_bacteria)\n",
        "'''"
      ]
    },
    {
      "cell_type": "code",
      "execution_count": null,
      "id": "5dd74897",
      "metadata": {
        "id": "5dd74897"
      },
      "outputs": [],
      "source": [
        "eukaryota_tax_lineage, df_entries_eukaryota = eukaryota_tax_lineage(1, df_entries_eukaryota)\n",
        "tax_id = list(tipd.index.values.tolist())\n",
        "\n",
        "new_id = []\n",
        "tax_lineage = []\n",
        "eukaryota_lineage = []\n",
        "\n",
        "# Go through each tax_id and match the corresponding phylum information\n",
        "for i in range(len(tax_id)):\n",
        "    if tax_id[i] in eukaryota_ids:\n",
        "        new_id.append(tax_id[i])\n",
        "        tax_lineage.append(eukaryota_tax_lineage[tax_id[i]])\n",
        "        eukaryota_lineage.append(eukaryota_tax_lineage[tax_id[i]])\n",
        "    else:\n",
        "        print(f\"Tax ID {tax_id[i]} not found in eukaryota_ids\")\n",
        "\n"
      ]
    },
    {
      "cell_type": "code",
      "execution_count": null,
      "id": "3a23e0c6",
      "metadata": {
        "id": "3a23e0c6"
      },
      "outputs": [],
      "source": [
        "result_df = pd.DataFrame({'Organism Id': new_id, 'Taxonomic lineage': tax_lineage})\n",
        "tax_lineage_unique = list(set(tax_lineage))\n",
        "tax_lineage_eukaryota_unique = list(set(eukaryota_lineage))\n",
        "print(tax_lineage_eukaryota_unique)\n",
        "result_df"
      ]
    },
    {
      "cell_type": "code",
      "execution_count": null,
      "id": "2cd58bf7",
      "metadata": {
        "id": "2cd58bf7"
      },
      "outputs": [],
      "source": [
        "tipd['Taxonomic lineage'] = tax_lineage\n",
        "tipd_reset_index = tipd.reset_index()"
      ]
    },
    {
      "cell_type": "code",
      "execution_count": null,
      "id": "46eaf1af",
      "metadata": {
        "id": "46eaf1af"
      },
      "outputs": [],
      "source": [
        "tipd_reset_index"
      ]
    },
    {
      "cell_type": "code",
      "execution_count": null,
      "id": "e7569179",
      "metadata": {
        "id": "e7569179"
      },
      "outputs": [],
      "source": [
        "!pip install plotly\n",
        "#==5.10\n",
        "from ipywidgets import interact, interactive, fixed, interact_manual\n",
        "import ipywidgets as widgets\n",
        "from plotly import express as px\n",
        "import plotly.io as pio\n",
        "print(\"Done\")"
      ]
    },
    {
      "cell_type": "code",
      "execution_count": null,
      "id": "cb892b2a",
      "metadata": {
        "id": "cb892b2a"
      },
      "outputs": [],
      "source": [
        "reducer = umap.UMAP()\n",
        "tax_level=[\"Phylum\", \"Class\", \"Order\", \"Family\"]\n",
        "\n",
        "##tipd columns are IPR numbers\n",
        "# print(\"columns\")\n",
        "# for col in tipd.columns:\n",
        "#     print(col)\n",
        "\n",
        "#dropdown_widget = [widgets.Dropdown(options=tax_level, value='Class', description='Taxonomic Rank:', disabled=False)]\n",
        "#checkboxes_tax_level=[widgets.Checkboxes(value=True, description=label) for label in tax_level]\n",
        "#ui = widgets.VBox(dropdown_widget)\n",
        "try:\n",
        "    tipd = tipd.drop('Eukaryota', axis=1)\n",
        "except KeyError:\n",
        "    pass\n",
        "embedding = reducer.fit_transform(tipd.loc[:, tipd.columns != 'Taxonomic lineage'])\n",
        "\n",
        "checkboxes = [widgets.Checkbox(value=True, description=label) for label in tax_lineage_unique]\n",
        "ui = widgets.VBox(children=checkboxes)\n",
        "\n",
        "def get_selected_data(checkboxes):\n",
        "  selected_data = []\n",
        "  for i in range(0, len(checkboxes)):\n",
        "      if checkboxes[i].value == True:\n",
        "          selected_data = selected_data + [checkboxes[i].description]"
      ]
    },
    {
      "cell_type": "code",
      "execution_count": null,
      "id": "6468ca7b",
      "metadata": {
        "id": "6468ca7b"
      },
      "outputs": [],
      "source": [
        "def update_plot(**kwargs):\n",
        "  selected_data = []\n",
        "  for k, v in kwargs.items():\n",
        "    if v==True:\n",
        "      selected_data.append(k)\n",
        "\n",
        "  tipd_bool_temp = tipd['Taxonomic lineage'].isin(selected_data)\n",
        "  tax_lin_temp = tipd[tipd_bool_temp]\n",
        "  tipd_temp = tipd.index[tipd_bool_temp]\n",
        "\n",
        "  global tipd_reset_index\n",
        "  indexes_list = tipd_temp.tolist()\n",
        "  #tipd_reset_index = tipd.reset_index() #this line is taking a long time\n",
        "  reset_index_list = tipd_reset_index.index[tipd_reset_index['Taxonomic lineage'].isin(selected_data)]\n",
        "  organism_id = [str(i) for i in indexes_list]\n",
        "\n",
        "\n",
        "  global organism_organismid\n",
        "  organism_organismid_temp = organism_organismid[organism_organismid['Organism Id'].isin(organism_id)]\n",
        "  organism_organismid_temp = organism_organismid_temp.set_index('Organism Id').loc[organism_id].reset_index()\n",
        "\n",
        "  embedding_temp = embedding[reset_index_list]\n",
        "\n",
        "  pio.templates.default = \"plotly_white\"\n",
        "  print(\"before scattering\")\n",
        "  fig = px.scatter(x = embedding_temp[:, 0],\n",
        "                  y = embedding_temp[:, 1],\n",
        "                  color = tax_lin_temp['Taxonomic lineage'],\n",
        "                  hover_name = organism_organismid_temp['Organism'],\n",
        "                  title = \"Fungi Taxonomic Lineage by Class\",\n",
        "                  width = 800,\n",
        "                  height = 500,\n",
        "                  opacity = 0.5,)\n",
        "  fig.update_layout(margin = {\"r\": 0, \"t\": 50, \"l\": 0, \"b\": 0})\n",
        "  print(\"before showing\")\n",
        "  fig.show()\n",
        "  print(\"after showing\")\n",
        "\n",
        "interact(update_plot, **{c.description:c.value for c in checkboxes})"
      ]
    },
    {
      "cell_type": "code",
      "execution_count": null,
      "id": "ab032515",
      "metadata": {
        "id": "ab032515"
      },
      "outputs": [],
      "source": [
        "# K-Means clustering\n",
        "import numpy as np\n",
        "import matplotlib.pyplot as plt\n",
        "from sklearn.datasets import make_blobs\n",
        "from sklearn.cluster import KMeans\n",
        "import umap"
      ]
    },
    {
      "cell_type": "code",
      "execution_count": null,
      "id": "e091da87",
      "metadata": {
        "id": "e091da87"
      },
      "outputs": [],
      "source": [
        "kmeans = KMeans(n_clusters=15)\n",
        "kmeans.fit(embedding)"
      ]
    },
    {
      "cell_type": "code",
      "execution_count": null,
      "id": "1ff7631d",
      "metadata": {
        "id": "1ff7631d"
      },
      "outputs": [],
      "source": [
        "plt.scatter(embedding[:, 0], embedding[:, 1], c=kmeans.labels_, cmap='tab20', s=5)\n",
        "centers = kmeans.cluster_centers_\n",
        "# plt.scatter(centers[:, 0], centers[:, 1], c='red', marker='X', s=100, alpha=0.5)\n",
        "plt.title('Fungi UMAP + K-means Clustering')\n",
        "plt.colorbar(label='Cluster')\n",
        "plt.show()"
      ]
    },
    {
      "cell_type": "code",
      "execution_count": null,
      "id": "e31453a0",
      "metadata": {
        "id": "e31453a0"
      },
      "outputs": [],
      "source": [
        "cluster_labels = kmeans.labels_\n",
        "cluster_labels"
      ]
    },
    {
      "cell_type": "code",
      "execution_count": null,
      "id": "4fdb8cf5",
      "metadata": {
        "id": "4fdb8cf5"
      },
      "outputs": [],
      "source": [
        "cluster_percentage = {}\n",
        "for cluster_label in np.unique(cluster_labels):\n",
        "    cluster_indices = np.where(cluster_labels == cluster_label)[0]\n",
        "    cluster_data = tipd.iloc[cluster_indices]\n",
        "    total_samples_in_cluster = len(cluster_data)\n",
        "    feature_counts = cluster_data['Taxonomic lineage'].value_counts()\n",
        "    feature_percentages = (feature_counts / total_samples_in_cluster) * 100\n",
        "    cluster_percentage[cluster_label] = feature_percentages\n",
        "\n",
        "# Step 4: Create a table to display percentages\n",
        "table_data = []\n",
        "for cluster_label, percentages in cluster_percentage.items():\n",
        "    for feature_value, percentage in percentages.items():\n",
        "        table_data.append([cluster_label, feature_value, percentage])\n",
        "\n",
        "table_columns = ['Cluster', 'Taxon', 'Percentage']\n",
        "percentage_table = pd.DataFrame(table_data, columns=table_columns)"
      ]
    },
    {
      "cell_type": "code",
      "execution_count": null,
      "id": "68d89b57",
      "metadata": {
        "id": "68d89b57"
      },
      "outputs": [],
      "source": [
        "percentage_table"
      ]
    },
    {
      "cell_type": "code",
      "execution_count": null,
      "id": "7fb467e1",
      "metadata": {
        "id": "7fb467e1"
      },
      "outputs": [],
      "source": [
        "import matplotlib.pyplot as plt\n",
        "import numpy as np\n",
        "\n",
        "# Assuming 'percentage_table' contains your DataFrame with cluster percentages\n",
        "\n",
        "# Get unique clusters\n",
        "clusters = percentage_table['Cluster'].unique()\n",
        "\n",
        "# Define the layout of the grid\n",
        "num_clusters = len(clusters)\n",
        "num_cols = 3  # Number of columns in the grid\n",
        "num_rows = int(np.ceil(num_clusters / num_cols))  # Number of rows in the grid\n",
        "\n",
        "# Get unique feature values\n",
        "unique_feature_values = percentage_table['Taxon'].unique()\n",
        "\n",
        "# Define a list of colors for each feature value\n",
        "colors = plt.cm.tab20c(np.linspace(0, 1, len(unique_feature_values)))\n",
        "\n",
        "# Create a dictionary mapping feature values to colors\n",
        "color_dict = dict(zip(unique_feature_values, colors))\n",
        "\n",
        "# Create the grid of subplots\n",
        "fig, axs = plt.subplots(num_rows, num_cols, figsize=(15, 5*num_rows))\n",
        "\n",
        "# Plot pie chart for each cluster\n",
        "for i, cluster in enumerate(clusters):\n",
        "    cluster_data = percentage_table[percentage_table['Cluster'] == cluster]\n",
        "    feature_values = cluster_data['Taxon']\n",
        "    percentages = cluster_data['Percentage']\n",
        "\n",
        "    # Get colors for each feature value\n",
        "    feature_colors = [color_dict[value] for value in feature_values]\n",
        "\n",
        "    row = i // num_cols\n",
        "    col = i % num_cols\n",
        "\n",
        "    ax = axs[row, col] if num_rows > 1 else axs[col]\n",
        "    ax.pie(percentages, labels=feature_values, autopct='%1.1f%%', colors=feature_colors)\n",
        "    ax.set_title(f'Cluster {cluster} - Taxon Distribution')\n",
        "\n",
        "# Hide empty subplots if any\n",
        "for i in range(len(clusters), num_rows*num_cols):\n",
        "    row = i // num_cols\n",
        "    col = i % num_cols\n",
        "    axs[row, col].axis('off')\n",
        "\n",
        "plt.tight_layout()\n",
        "plt.show()\n"
      ]
    },
    {
      "cell_type": "code",
      "execution_count": null,
      "id": "bb69e44c",
      "metadata": {
        "id": "bb69e44c"
      },
      "outputs": [],
      "source": [
        "import pandas as pd\n",
        "import plotly.express as px\n",
        "\n",
        "# Create a pandas dataframe with the taxonomic data\n",
        "df = pd.DataFrame({\n",
        "    \"taxon\": [\"Animalia\", \"Chordata\", \"Mammalia\", \"Primates\", \"Hominidae\", \"Homo\", \"Homo sapiens\"],\n",
        "    \"parent\": [\"None\", \"Animalia\", \"Chordata\", \"Mammalia\", \"Primates\", \"Hominidae\", \"Homo\"],\n",
        "    \"value\": [100, 90, 80, 70, 60, 50, 40]\n",
        "})\n",
        "\n",
        "# Create the sunburst chart\n",
        "fig = px.sunburst(df, path=\"taxon\", values=\"value\")\n",
        "\n",
        "# Update the layout\n",
        "fig.update_layout(title=\"Taxonomic Sunburst Chart\")\n",
        "\n",
        "# Display the chart\n",
        "fig.show()"
      ]
    }
  ],
  "metadata": {
    "colab": {
      "provenance": [],
      "include_colab_link": true
    },
    "kernelspec": {
      "display_name": "Python 3 (ipykernel)",
      "language": "python",
      "name": "python3"
    },
    "language_info": {
      "codemirror_mode": {
        "name": "ipython",
        "version": 3
      },
      "file_extension": ".py",
      "mimetype": "text/x-python",
      "name": "python",
      "nbconvert_exporter": "python",
      "pygments_lexer": "ipython3",
      "version": "3.11.5"
    }
  },
  "nbformat": 4,
  "nbformat_minor": 5
}